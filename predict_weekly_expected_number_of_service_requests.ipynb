{
 "cells": [
  {
   "cell_type": "code",
   "execution_count": 28,
   "id": "352770d7",
   "metadata": {},
   "outputs": [],
   "source": [
    "\"\"\"\n",
    "Tshikana Rasehlomi\n",
    "e-mail: rasehlomi@gmail.com\n",
    "DS_CODE CHALLENGE\n",
    "QUESTION 2: Time Series Challenge - Predict expected weekly service requests\n",
    "10-07-2022\n",
    "\"\"\"\n",
    "\n",
    "# Load required modules\n",
    "#==================================================================================\n",
    "from sklearn.preprocessing import *\n",
    "from sklearn.model_selection import train_test_split\n",
    "from sklearn.ensemble import RandomForestClassifier\n",
    "from sklearn.metrics import accuracy_score, mean_squared_error, mean_absolute_error, mean_squared_error\n",
    "import matplotlib.pyplot as plt\n",
    "import numpy as np\n",
    "import pandas as pd\n",
    "import seaborn as sns"
   ]
  },
  {
   "cell_type": "code",
   "execution_count": 4,
   "id": "df8d4adc",
   "metadata": {},
   "outputs": [
    {
     "data": {
      "text/plain": [
       "Index(['notification_number', 'reference_number', 'creation_timestamp',\n",
       "       'completion_timestamp', 'directorate', 'department', 'branch',\n",
       "       'section', 'code_group', 'code', 'cause_code_group', 'cause_code',\n",
       "       'official_suburb', 'latitude', 'longitude', 'h3_level8_index'],\n",
       "      dtype='object')"
      ]
     },
     "execution_count": 4,
     "metadata": {},
     "output_type": "execute_result"
    }
   ],
   "source": [
    "# read and load the sr_hex.csv data and check the dataframe columns\n",
    "#=========================================================================================\n",
    "sr_hex_df = pd.read_csv('https://cct-ds-code-challenge-input-data.s3.af-south-1.amazonaws.com/sr_hex.csv.gz', compression='gzip', header=0, sep=',', quotechar='\\\"')\n",
    "sr_hex_df.columns"
   ]
  },
  {
   "cell_type": "code",
   "execution_count": 5,
   "id": "9f511d53",
   "metadata": {},
   "outputs": [
    {
     "data": {
      "text/html": [
       "<div>\n",
       "<style scoped>\n",
       "    .dataframe tbody tr th:only-of-type {\n",
       "        vertical-align: middle;\n",
       "    }\n",
       "\n",
       "    .dataframe tbody tr th {\n",
       "        vertical-align: top;\n",
       "    }\n",
       "\n",
       "    .dataframe thead th {\n",
       "        text-align: right;\n",
       "    }\n",
       "</style>\n",
       "<table border=\"1\" class=\"dataframe\">\n",
       "  <thead>\n",
       "    <tr style=\"text-align: right;\">\n",
       "      <th></th>\n",
       "      <th>index</th>\n",
       "      <th>notification_number</th>\n",
       "      <th>code_group</th>\n",
       "      <th>code</th>\n",
       "      <th>cause_code_group</th>\n",
       "      <th>cause_code</th>\n",
       "      <th>official_suburb</th>\n",
       "    </tr>\n",
       "  </thead>\n",
       "  <tbody>\n",
       "    <tr>\n",
       "      <th>0</th>\n",
       "      <td>0</td>\n",
       "      <td>400583534</td>\n",
       "      <td>TD Customer complaint groups</td>\n",
       "      <td>Pothole&amp;Defect Road Foot Bic Way/Kerbs</td>\n",
       "      <td>Road (RCL)</td>\n",
       "      <td>Wear and tear</td>\n",
       "      <td>MONTAGUE GARDENS</td>\n",
       "    </tr>\n",
       "    <tr>\n",
       "      <th>1</th>\n",
       "      <td>1</td>\n",
       "      <td>400555043</td>\n",
       "      <td>TD Customer complaint groups</td>\n",
       "      <td>Manhole Cover/Gully Grid</td>\n",
       "      <td>Road (RCL)</td>\n",
       "      <td>Vandalism</td>\n",
       "      <td>SOMERSET WEST</td>\n",
       "    </tr>\n",
       "    <tr>\n",
       "      <th>2</th>\n",
       "      <td>2</td>\n",
       "      <td>400589145</td>\n",
       "      <td>TD Customer complaint groups</td>\n",
       "      <td>Manhole Cover/Gully Grid</td>\n",
       "      <td>Road (RCL)</td>\n",
       "      <td>Vandalism</td>\n",
       "      <td>STRAND</td>\n",
       "    </tr>\n",
       "    <tr>\n",
       "      <th>3</th>\n",
       "      <td>3</td>\n",
       "      <td>400538915</td>\n",
       "      <td>TD Customer complaint groups</td>\n",
       "      <td>Paint Markings Lines&amp;Signs</td>\n",
       "      <td>Road Markings</td>\n",
       "      <td>Wear and tear</td>\n",
       "      <td>RAVENSMEAD</td>\n",
       "    </tr>\n",
       "    <tr>\n",
       "      <th>4</th>\n",
       "      <td>4</td>\n",
       "      <td>400568554</td>\n",
       "      <td>TD Customer complaint groups</td>\n",
       "      <td>Pothole&amp;Defect Road Foot Bic Way/Kerbs</td>\n",
       "      <td>Road (RCL)</td>\n",
       "      <td>Surfacing failure</td>\n",
       "      <td>CLAREMONT</td>\n",
       "    </tr>\n",
       "  </tbody>\n",
       "</table>\n",
       "</div>"
      ],
      "text/plain": [
       "   index  notification_number                    code_group  \\\n",
       "0      0            400583534  TD Customer complaint groups   \n",
       "1      1            400555043  TD Customer complaint groups   \n",
       "2      2            400589145  TD Customer complaint groups   \n",
       "3      3            400538915  TD Customer complaint groups   \n",
       "4      4            400568554  TD Customer complaint groups   \n",
       "\n",
       "                                     code cause_code_group         cause_code  \\\n",
       "0  Pothole&Defect Road Foot Bic Way/Kerbs       Road (RCL)      Wear and tear   \n",
       "1                Manhole Cover/Gully Grid       Road (RCL)          Vandalism   \n",
       "2                Manhole Cover/Gully Grid       Road (RCL)          Vandalism   \n",
       "3              Paint Markings Lines&Signs    Road Markings      Wear and tear   \n",
       "4  Pothole&Defect Road Foot Bic Way/Kerbs       Road (RCL)  Surfacing failure   \n",
       "\n",
       "    official_suburb  \n",
       "0  MONTAGUE GARDENS  \n",
       "1     SOMERSET WEST  \n",
       "2            STRAND  \n",
       "3        RAVENSMEAD  \n",
       "4         CLAREMONT  "
      ]
     },
     "execution_count": 5,
     "metadata": {},
     "output_type": "execute_result"
    }
   ],
   "source": [
    "#  we extract input dataframe to be used in our model development by dropping unwanted columns and check the first rows of new dataframe\n",
    "#======================================================================================================================================\n",
    "sr_hex_mod = sr_hex_df.drop(['reference_number', 'completion_timestamp',\n",
    "       'directorate', 'department', 'branch', 'section', 'latitude', 'creation_timestamp',\n",
    "       'longitude', 'h3_level8_index'], axis=1)\n",
    "sr_hex_mod.reset_index(inplace=True)\n",
    "sr_hex_mod.head()"
   ]
  },
  {
   "cell_type": "code",
   "execution_count": 6,
   "id": "ab67d1d8",
   "metadata": {},
   "outputs": [
    {
     "name": "stdout",
     "output_type": "stream",
     "text": [
      "   index  notification_number  code_group  code  cause_code_group  cause_code  \\\n",
      "0      0               931912          25   297                31         179   \n",
      "1      1               918735          25   220                31         166   \n",
      "2      2               934454          25   220                31         166   \n",
      "3      3               914417          25   280                32         179   \n",
      "4      4               924889          25   297                31         148   \n",
      "\n",
      "   official_suburb  \n",
      "0              440  \n",
      "1              619  \n",
      "2              651  \n",
      "3              544  \n",
      "4              148  \n"
     ]
    }
   ],
   "source": [
    "# we then convert categorical fields to numerical values to be used in model development\n",
    "#=======================================================================================================================\n",
    "number = LabelEncoder()\n",
    "sr_hex_mod['code'] = number.fit_transform(sr_hex_mod['code'].astype('str'))\n",
    "sr_hex_mod['cause_code'] = number.fit_transform(sr_hex_mod['cause_code'].astype('str'))\n",
    "sr_hex_mod['code_group'] = number.fit_transform(sr_hex_mod['code_group'].astype('str'))\n",
    "sr_hex_mod['official_suburb'] = number.fit_transform(sr_hex_mod['official_suburb'].astype('str'))\n",
    "sr_hex_mod['notification_number'] = number.fit_transform(sr_hex_mod['notification_number'].astype('str'))\n",
    "sr_hex_mod['cause_code_group'] = number.fit_transform(sr_hex_mod['cause_code_group'].astype('str'))\n",
    "print(sr_hex_mod.head())"
   ]
  },
  {
   "cell_type": "code",
   "execution_count": 8,
   "id": "6a8d10e2",
   "metadata": {},
   "outputs": [],
   "source": [
    "# we define a way to handle the official suburb in the datasets\n",
    "#=====================================================================================================\n",
    "def compute_service(x):\n",
    "    accept = [range(0,8)]\n",
    "    if x not in accept:\n",
    "        return 0\n",
    "    else:\n",
    "        return x\n",
    "    \n",
    "sr_hex_mod['official_suburb'] = sr_hex_mod['official_suburb'].apply(compute_service)"
   ]
  },
  {
   "cell_type": "code",
   "execution_count": 9,
   "id": "04a51d65",
   "metadata": {},
   "outputs": [],
   "source": [
    "# we define independent and dependent variables from our data prepared for model development\n",
    "#========================================================================================================\n",
    "y = sr_hex_mod['code'].values\n",
    "X = sr_hex_mod.values"
   ]
  },
  {
   "cell_type": "code",
   "execution_count": 13,
   "id": "a6e3881b",
   "metadata": {},
   "outputs": [],
   "source": [
    "# Split data into training and test samples of 80%-20%\n",
    "#==========================================================================================================\n",
    "X_train, X_test, y_train, y_test = train_test_split(X,y, test_size = .2, random_state=0)"
   ]
  },
  {
   "cell_type": "code",
   "execution_count": 18,
   "id": "32d2c3a2",
   "metadata": {},
   "outputs": [
    {
     "name": "stdout",
     "output_type": "stream",
     "text": [
      "[291  36 239 ...  63 124 239]\n"
     ]
    }
   ],
   "source": [
    "# we compute a RandomForest classifier by providing number of trees (n_estimators) and\n",
    "# minimum number of samples required to be at a leaf node for the tree (min_samples_leaf)\n",
    "#==============================================================================================================\n",
    "Rf = RandomForestClassifier(n_estimators=20, min_samples_leaf=5, random_state=0)\n",
    "Rf.fit(X_train, y_train)\n",
    "y_pred = Rf.predict(X_test)\n",
    "print(y_pred)"
   ]
  },
  {
   "cell_type": "code",
   "execution_count": 32,
   "id": "8c4e678b",
   "metadata": {},
   "outputs": [
    {
     "name": "stdout",
     "output_type": "stream",
     "text": [
      "   Actual  Predicted\n",
      "0     291        291\n",
      "1      36         36\n",
      "2     239        239\n",
      "3     239        239\n",
      "4     367        367\n"
     ]
    },
    {
     "name": "stderr",
     "output_type": "stream",
     "text": [
      "C:\\Users\\TRasehlomi.TRASEHLOMI-NB\\Anaconda3\\lib\\site-packages\\seaborn\\distributions.py:2619: FutureWarning: `distplot` is a deprecated function and will be removed in a future version. Please adapt your code to use either `displot` (a figure-level function with similar flexibility) or `kdeplot` (an axes-level function for kernel density plots).\n",
      "  warnings.warn(msg, FutureWarning)\n",
      "C:\\Users\\TRasehlomi.TRASEHLOMI-NB\\Anaconda3\\lib\\site-packages\\seaborn\\distributions.py:2619: FutureWarning: `distplot` is a deprecated function and will be removed in a future version. Please adapt your code to use either `displot` (a figure-level function with similar flexibility) or `kdeplot` (an axes-level function for kernel density plots).\n",
      "  warnings.warn(msg, FutureWarning)\n"
     ]
    },
    {
     "data": {
      "image/png": "[encoded data removed]",
      "text/plain": [
       "<Figure size 576x576 with 1 Axes>"
      ]
     },
     "metadata": {
      "needs_background": "light"
     },
     "output_type": "display_data"
    }
   ],
   "source": [
    "# check the difference between predicted vs actual service requests\n",
    "#====================================================================================================================\n",
    "\n",
    "diff =pd.DataFrame({'Actual':y_test, 'Predicted':y_pred})\n",
    "print(diff.head())\n",
    "\n",
    "# let's visualize these difference on a graph\n",
    "#=====================================================================================================================\n",
    "\n",
    "plt.figure(figsize=(8, 8))\n",
    "ax = sns.distplot(y, hist=False, color=\"r\", label=\"Actual Value\")\n",
    "sns.distplot(y_pred, hist=False, color=\"b\", label=\"Fitted Values\" , ax=ax)\n",
    "plt.title('Actual vs Fitted Values for service requests')\n",
    "plt.show()\n",
    "plt.close()"
   ]
  },
  {
   "cell_type": "code",
   "execution_count": 27,
   "id": "9739d473",
   "metadata": {},
   "outputs": [
    {
     "name": "stdout",
     "output_type": "stream",
     "text": [
      "Accuracy:  99.06386232457375\n",
      "Mean Absolute Error: 0.09613597625406872\n",
      "Mean Squared Error: 3.723072103309669\n",
      "Root Mean Squared Error: 1.9295263935250198\n"
     ]
    }
   ],
   "source": [
    "# evaluate model performance and once happy use it to predict the service request per hex for the next 4 weeks\n",
    "#==============================================================================================================\n",
    "print('Accuracy: ', accuracy_score(y_test, y_pred)*100)\n",
    "print('Mean Absolute Error:', mean_absolute_error(y_test, y_pred))\n",
    "print('Mean Squared Error:', mean_squared_error(y_test, y_pred))\n",
    "print('Root Mean Squared Error:', np.sqrt(mean_squared_error(y_test, y_pred)))"
   ]
  },
  {
   "cell_type": "code",
   "execution_count": 44,
   "id": "3034adca",
   "metadata": {},
   "outputs": [
    {
     "name": "stdout",
     "output_type": "stream",
     "text": [
      "291\n"
     ]
    }
   ],
   "source": [
    "# our model achieved 99% accuracy which is greater than the initial target of 95%\n",
    "# we confidently use it to predicted expected service requests per hex for next 4 weeks (roughly 28 days)\n",
    "# using our model we make a one-step prediction\n",
    "\n",
    "y_pred = Rf.predict(X_test)\n",
    "\n",
    "expected_service_requests = y_pred[28]\n",
    "\n",
    "print(expected_service_requests)\n"
   ]
  }
 ],
 "metadata": {
  "kernelspec": {
   "display_name": "Python 3 (ipykernel)",
   "language": "python",
   "name": "python3"
  },
  "language_info": {
   "codemirror_mode": {
    "name": "ipython",
    "version": 3
   },
   "file_extension": ".py",
   "mimetype": "text/x-python",
   "name": "python",
   "nbconvert_exporter": "python",
   "pygments_lexer": "ipython3",
   "version": "3.9.12"
  }
 },
 "nbformat": 4,
 "nbformat_minor": 5
}
